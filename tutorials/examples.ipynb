{
 "cells": [
  {
   "cell_type": "code",
   "execution_count": null,
   "metadata": {},
   "outputs": [],
   "source": [
    "!pip install chatting_chatbots"
   ]
  },
  {
   "cell_type": "code",
   "execution_count": null,
   "metadata": {},
   "outputs": [],
   "source": [
    "from chatting_chatbots import Experiment\n",
    "\n",
    "Experiment(\n",
    "    population={\n",
    "        \"John\": \"gpt2\",\n",
    "        \"Margaret\": \"gpt2\",\n",
    "        \"Alice\": \"gpt2\",\n",
    "        \"Bob\": \"gpt2\",\n",
    "        \"Eve\": \"gpt2\",\n",
    "        \"Charlie\": \"gpt2\",\n",
    "        \"Darwin\": \"gpt2\",\n",
    "    },\n",
    "    cycles=2,\n",
    "    initial_context=\"Hi. Why are you late?\",\n",
    "    conversation_length=10,\n",
    "    verbose=True,\n",
    "    use_gpu=0,\n",
    "    use_files=False,\n",
    ").run()\n"
   ]
  }
 ],
 "metadata": {
  "language_info": {
   "name": "python"
  },
  "orig_nbformat": 4
 },
 "nbformat": 4,
 "nbformat_minor": 2
}
