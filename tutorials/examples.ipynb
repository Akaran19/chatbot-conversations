{
 "cells": [
  {
   "cell_type": "code",
   "execution_count": null,
   "metadata": {},
   "outputs": [],
   "source": [
    "!pip install chatting_chatbots"
   ]
  },
  {
   "source": [
    "##Example of creating and running an experiment"
   ],
   "cell_type": "markdown",
   "metadata": {}
  },
  {
   "cell_type": "code",
   "execution_count": null,
   "metadata": {},
   "outputs": [],
   "source": [
    "from chatting_chatbots import Experiment\n",
    "\n",
    "experiment = Experiment(\n",
    "    population={\n",
    "        \"John\": \"gpt2\",\n",
    "        \"Margaret\": \"distilgpt2\"\n",
    "    },\n",
    "    cycles=2,\n",
    "    initial_context=\"Hi. Why are you late?\",\n",
    "    conversation_length=10,\n",
    "    verbose=True,\n",
    "    use_gpu=-1,\n",
    "    use_files=False,\n",
    "    batch_size=64\n",
    ")\n",
    "\n",
    "experiment.run()\n"
   ]
  },
  {
   "source": [
    "##Example of training one of the models for 5 epochs"
   ],
   "cell_type": "markdown",
   "metadata": {}
  },
  {
   "cell_type": "code",
   "execution_count": null,
   "metadata": {},
   "outputs": [],
   "source": [
    "from transformers import TrainingArguments\n",
    "arguments = TrainingArguments(\n",
    "    output_dir=\"training\",\n",
    "    per_device_train_batch_size=4,\n",
    "    evaluation_strategy=\"steps\",\n",
    "    logging_steps=500,\n",
    "    num_train_epochs=5,\n",
    "    weight_decay=0.01\n",
    ")\n",
    "\n",
    "experiment.train_participant(\"John\", arguments)"
   ]
  }
 ],
 "metadata": {
  "language_info": {
   "name": "python",
   "version": "3.7.3-final"
  },
  "orig_nbformat": 4,
  "kernelspec": {
   "name": "python37364bitvenvvenva3254f6ce0c6489e924b5c3f0abddfe6",
   "display_name": "Python 3.7.3 64-bit ('.venv': venv)"
  }
 },
 "nbformat": 4,
 "nbformat_minor": 2
}